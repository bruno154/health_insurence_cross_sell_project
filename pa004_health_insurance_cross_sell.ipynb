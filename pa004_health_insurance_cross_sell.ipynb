{
 "cells": [
  {
   "cell_type": "markdown",
   "metadata": {},
   "source": [
    "# Bussiness Problem"
   ]
  },
  {
   "cell_type": "markdown",
   "metadata": {},
   "source": [
    "The company Insurance all performed 127.000 with 380.000 customers about their interest in a new auto-insurance product. Their customer will demonstrate or not their interest in purchase the insurance.\n",
    "\n",
    "    \n",
    "As a result of our work we will produce a report with our analysis and the answers to the questions below:\n",
    "\n",
    "   - Principal insights about more relevant attributes to custormers purchase an auto-insurance.\n",
    "    \n",
    "   - If the capacity of sales team increases to 40.000 calls, what would be the percetange of the customers interest in acquire an auto-insurance?\n",
    "  \n",
    "   - How many calls the sales team need to contact 80% of the customers interested in purchase an auto-insurance?\n"
   ]
  },
  {
   "cell_type": "markdown",
   "metadata": {
    "heading_collapsed": "true"
   },
   "source": [
    "## Sprints - Schedule"
   ]
  },
  {
   "cell_type": "markdown",
   "metadata": {},
   "source": [
    "**SPRINT 1 (05/01 - 12/01)**\n",
    " \n",
    "   - Solution Planning (Done);\n",
    "\n",
    "   - Data Collection (Done);\n",
    "\n",
    "**SPRINT 2 (12/01 - 19/01)**\n",
    "\n",
    "   - Descriptive Analysis(Done);\n",
    "\n",
    "   - Business Research (What is a cross-sell)(Done);\n",
    "\n",
    "**SPRINT 3 (19/01 - 26/01)**\n",
    "\n",
    "   - Feature Engineering(DONE);\n",
    "\n",
    "**SPRINT 4 (26/01 - 02/02)**\n",
    "\n",
    "   - EDA;\n",
    "\n",
    "   - Insight Report;\n",
    "\n",
    "\n",
    "**SPRINT 5 (02/02 - 09/02)**\n",
    "\n",
    "   - Implementation of Machine Learning Models;\n",
    "\n",
    "**SPRINT 6 (09/02 - 16/02)**\n",
    "\n",
    "   - Business Metrics (KPI);\n",
    "\n",
    "   - Translate to business metrics;\n",
    "\n",
    "**SPRINT 7 (16/02 - 23/02)**\n",
    "\n",
    "Deploy of the Model in Production;\n",
    "\n",
    "**SPRINT 8 (23/02 - 02/03)**\n",
    "\n",
    "Access of the data in the Model in Production;\n",
    "\n",
    "**SPRINT 9 (02/03 - 09/03)**\n",
    "\n",
    "Presentation to Business Team;\n",
    "\n",
    "**SPRINT 10 (09/03 - 16/03)**\n",
    "\n",
    "Write an article;\n",
    "What I Learned;"
   ]
  },
  {
   "cell_type": "markdown",
   "metadata": {
    "heading_collapsed": "true"
   },
   "source": [
    "## Solution Plan"
   ]
  },
  {
   "cell_type": "markdown",
   "metadata": {},
   "source": [
    "**1. Collect Data.**\n",
    "\n",
    "   **Tools:**\n",
    "   \n",
    "       - SQL(query to retrive data)\n",
    "       \n",
    "       - Python(psycopg2, to connect with database)\n",
    "       \n",
    "   **Evidence of Completeness:**\n",
    "   \n",
    "       - Dataframe in memory with all tables of databaseds.\n",
    "       \n",
    "       - A .csv file in disk as backup of the data.\n",
    "\n",
    "**2. Descriptive Analysis.**\n",
    "    \n",
    "   **Tools:**\n",
    "   \n",
    "      - Python (pandas)\n",
    "      \n",
    "   **Evidence of Completeness:**\n",
    "   \n",
    "      Jupyter notebook with:\n",
    "      \n",
    "        - Target Balance.\n",
    "        \n",
    "        - Descriptive stats for numerical variables(mean, median, mim, max).\n",
    "        \n",
    "        - Frequency plots for categorical variables.\n",
    "        \n",
    "        - If there is some odd value.\n",
    "        \n",
    "        - If there is missing values.\n",
    "        \n",
    "        - Presence of outliers.\n",
    "        \n",
    "**3. Feature Engineering**\n",
    "    \n",
    "   **Tools:**\n",
    "    \n",
    "       - Python for Feature Engineering\n",
    "       - Jupyter notebook for documetation\n",
    "    \n",
    "   **Evidence of completeness:**\n",
    "    \n",
    "       - Jupyter notebook with the implemetantion of all transformations and Feature Engineering\n",
    "       \n",
    "        \n",
    "**4. EDA / Insight Report.**\n",
    "    \n",
    "   **Tools:**\n",
    "    \n",
    "       - Draw.io(For mapmind of hypotesis).\n",
    "       \n",
    "       - Python(pandas, matplotlib, seaborn).\n",
    "       \n",
    "       - Jupyter notebooks.\n",
    "       \n",
    "   **Evidence of Completeness:**\n",
    "    \n",
    "       - Jupyter notebook with insights between interest, not interest and behavior in data.\n",
    " \n",
    "**5. Data Preparation:**\n",
    "\n",
    "  **Tools:**\n",
    "  \n",
    "       - Python for transformation and preparation to training \n",
    " \n",
    "  **Evidence of Completeness:**\n",
    "  \n",
    "       - Jupyter notebook with the implementations. \n",
    " \n",
    "\n",
    "**6. Machine Learning Models**\n",
    "\n",
    "   **Tools:**\n",
    "    \n",
    "       - Python as the programing language.\n",
    "       \n",
    "       - Pycaret(AutoMl) for auto test several models.\n",
    "       \n",
    "       - Keras for develop my first NN.\n",
    "       \n",
    "       - Jupyter notebook for documetation.\n",
    "       \n",
    "   **Treatment of Data:**  \n",
    "   \n",
    "       - From 381k of full data split  230k for training, 76k to validation and 75k to test.\n",
    "       \n",
    "       - Validate/tunning the model on validation data (Gain Curve) and test its generalization power on test data. \n",
    "      \n",
    "   **Evidence of completeness:**\n",
    "    \n",
    "       - Jupyter notebook with the implemetantions\n",
    "\n",
    "**7. Business Metrics**\n",
    "   \n",
    "   **Tools:**\n",
    "   \n",
    "      - Python as a programing language\n",
    "      - Jupyter notebooks for documentation\n",
    "   \n",
    "   **Evidence of completeness:**\n",
    "   \n",
    "     Jupyter notebooks\n",
    "       - % interested customers will be contacted with 20.000 calls;\n",
    "       - % interested customers will be contacted with 40.000 calls;\n",
    "   \n",
    "\n",
    "**8. Deploy the Model**\n",
    "\n",
    "**9. Presentation**\n",
    "\n",
    "**10. Article**"
   ]
  },
  {
   "cell_type": "markdown",
   "metadata": {},
   "source": [
    "## Imports"
   ]
  },
  {
   "cell_type": "code",
   "execution_count": 1,
   "metadata": {
    "ExecuteTime": {
     "end_time": "2021-01-09T17:42:27.300344Z",
     "start_time": "2021-01-09T17:42:27.085224Z"
    }
   },
   "outputs": [],
   "source": [
    "import os\n",
    "import psycopg2\n",
    "import numpy as np\n",
    "import pandas as pd\n",
    "import seaborn as sns\n",
    "import postgres_crud as pc\n",
    "import matplotlib.pyplot as plt"
   ]
  },
  {
   "cell_type": "markdown",
   "metadata": {},
   "source": [
    "## Helper Functions"
   ]
  },
  {
   "cell_type": "code",
   "execution_count": null,
   "metadata": {
    "ExecuteTime": {
     "end_time": "2021-01-09T17:42:27.304073Z",
     "start_time": "2021-01-09T17:42:27.301883Z"
    }
   },
   "outputs": [],
   "source": [
    "# Function to convert rs to brl\n",
    "def convert_rs_to_brl(x, rate):\n",
    "    return x*rate\n",
    "\n",
    "# Function to categorize the variable age\n",
    "def cat_age(x):\n",
    "    \n",
    "    if x > 20 and x <= 25 :\n",
    "        return 'Faixa_20_25'\n",
    "    elif x > 25 and x <= 30:\n",
    "        return 'Faixa_25_30'\n",
    "    else:\n",
    "        return 'Faixa_maior_30'\n",
    "    \n",
    "def Myheat_map(dataset, variaveis):\n",
    "\n",
    "    df_corr = dataset[variaveis].corr()\n",
    "\n",
    "    fig, ax = plt.subplots(figsize=(16, 10))\n",
    "    # mask\n",
    "    mask = np.triu(np.ones_like(df_corr, dtype=np.bool))\n",
    "    # adjust mask and df\n",
    "    mask = mask[1:, :-1]\n",
    "    corr = df_corr.iloc[1:,:-1].copy()\n",
    "    # color map\n",
    "    cmap = sns.diverging_palette(0, 230, 90, 60, as_cmap=True)\n",
    "\n",
    "    # plot heatmap\n",
    "    sns.heatmap(corr, mask=mask, annot=True, fmt=\".2f\",\n",
    "                   linewidths=5, cmap=cmap, vmin=-1, vmax=1, \n",
    "                   cbar_kws={\"shrink\": .8}, square=True)\n",
    "    yticks = [i.upper() for i in corr.index]\n",
    "    xticks = [i.upper() for i in corr.columns]\n",
    "    plt.yticks(plt.yticks()[0], labels=yticks, rotation=0)\n",
    "    plt.xticks(plt.xticks()[0], labels=xticks, rotation=20)\n",
    "\n",
    "    # title\n",
    "    title = 'CORRELATION MATRIX\\n'\n",
    "    plt.title(title, loc='left', fontsize=18)\n",
    "    plt.show()\n",
    "    \n",
    "def cramer_v(var_x, var_y):\n",
    "\n",
    "    # builds contigency matrix (or confusion matrix)\n",
    "    confusion_matrix_v = pd.crosstab(var_x, var_y).values\n",
    "\n",
    "    # gets the sum of all values in the matrix\n",
    "    n = confusion_matrix_v.sum()\n",
    "\n",
    "    # gets the rows, cols\n",
    "    r, k = confusion_matrix_v.shape\n",
    "\n",
    "    # gets the chi-squared\n",
    "    chi2 = chi2_contingency(confusion_matrix_v)[0]\n",
    "\n",
    "    # makes the bias correction\n",
    "    chi2corr = max(0, chi2 - (k-1) * (r-1) / (n-1))\n",
    "    kcorr = k - (k-1) ** 2 / (n-1)\n",
    "    rcorr = r - (r-1) ** 2 / (n-1)\n",
    "\n",
    "    # returns cramér V\n",
    "    return np.sqrt((chi2corr/n) / min(kcorr-1, rcorr-1))"
   ]
  },
  {
   "cell_type": "markdown",
   "metadata": {
    "heading_collapsed": "true"
   },
   "source": [
    "# Coletando os Dados"
   ]
  },
  {
   "cell_type": "markdown",
   "metadata": {
    "heading_collapsed": "true"
   },
   "source": [
    "## Conhecendo as tabelas do BD."
   ]
  },
  {
   "cell_type": "code",
   "execution_count": 5,
   "metadata": {
    "ExecuteTime": {
     "end_time": "2021-01-09T18:06:20.295596Z",
     "start_time": "2021-01-09T18:06:18.025013Z"
    }
   },
   "outputs": [
    {
     "name": "stdout",
     "output_type": "stream",
     "text": [
      "Buscando os dados!!!\n",
      "Conexão com Postgresql fechada\n"
     ]
    },
    {
     "data": {
      "text/html": [
       "<div>\n",
       "<style scoped>\n",
       "    .dataframe tbody tr th:only-of-type {\n",
       "        vertical-align: middle;\n",
       "    }\n",
       "\n",
       "    .dataframe tbody tr th {\n",
       "        vertical-align: top;\n",
       "    }\n",
       "\n",
       "    .dataframe thead th {\n",
       "        text-align: right;\n",
       "    }\n",
       "</style>\n",
       "<table border=\"1\" class=\"dataframe\">\n",
       "  <thead>\n",
       "    <tr style=\"text-align: right;\">\n",
       "      <th></th>\n",
       "      <th>table_name</th>\n",
       "    </tr>\n",
       "  </thead>\n",
       "  <tbody>\n",
       "    <tr>\n",
       "      <th>0</th>\n",
       "      <td>users</td>\n",
       "    </tr>\n",
       "    <tr>\n",
       "      <th>1</th>\n",
       "      <td>vehicle</td>\n",
       "    </tr>\n",
       "    <tr>\n",
       "      <th>2</th>\n",
       "      <td>insurance</td>\n",
       "    </tr>\n",
       "  </tbody>\n",
       "</table>\n",
       "</div>"
      ],
      "text/plain": [
       "  table_name\n",
       "0      users\n",
       "1    vehicle\n",
       "2  insurance"
      ]
     },
     "execution_count": 5,
     "metadata": {},
     "output_type": "execute_result"
    }
   ],
   "source": [
    "# Parametros\n",
    "HOST =     ##### \n",
    "PORT =     ##### \n",
    "DATABASE = ##### \n",
    "USERNAME = ##### \n",
    "PASSWORD = ##### \n",
    "\n",
    "# Query SQL to find the tables names\n",
    "query =   \"\"\"\n",
    "          SELECT table_name \n",
    "          FROM information_schema.tables\n",
    "          WHERE table_schema='pa004'\n",
    "          AND table_type='BASE TABLE';\n",
    "          \n",
    "          \"\"\"\n",
    "\n",
    "data = pc.Postgresql.retrieve_data(query=query,\n",
    "                                   user=USERNAME,\n",
    "                                   password=PASSWORD,\n",
    "                                   host=HOST,\n",
    "                                   port=PORT,\n",
    "                                   database=DATABASE,\n",
    "                                   connect=True,\n",
    "                                   objeto = 'pd')\n",
    "\n",
    "data"
   ]
  },
  {
   "cell_type": "markdown",
   "metadata": {},
   "source": [
    "Cool we have three tables to work with 'users', 'vehicle', 'insurance'. Let's get them individually."
   ]
  },
  {
   "cell_type": "code",
   "execution_count": 6,
   "metadata": {
    "ExecuteTime": {
     "end_time": "2021-01-09T19:35:44.593706Z",
     "start_time": "2021-01-09T19:34:07.162501Z"
    }
   },
   "outputs": [
    {
     "name": "stdout",
     "output_type": "stream",
     "text": [
      "Buscando os dados!!!\n",
      "Conexão com Postgresql fechada\n",
      "Buscando os dados!!!\n",
      "Conexão com Postgresql fechada\n",
      "Buscando os dados!!!\n",
      "Conexão com Postgresql fechada\n",
      "\n",
      "There is duplicated ids ?\n",
      "\n",
      "Duplicated ids in df 0 - [False]\n",
      "\n",
      "Duplicated ids in df 1 - [False]\n",
      "\n",
      "Duplicated ids in df 2 - [False]\n"
     ]
    }
   ],
   "source": [
    "# querys\n",
    "query_insurance = \"\"\"SELECT * FROM pa004.insurance; \"\"\"\n",
    "query_users = \"\"\"SELECT * FROM pa004.users; \"\"\"\n",
    "query_vehicle = \"\"\"SELECT * FROM pa004.vehicle; \"\"\"\n",
    "\n",
    "QUERY_LIST = [query_insurance,query_users, query_vehicle]\n",
    "\n",
    "# Generating a list of dataframes\n",
    "dataframes = []\n",
    "for query in QUERY_LIST:\n",
    "    \n",
    "    data = pc.Postgresql.retrieve_data(query=query,\n",
    "                                   user=USERNAME,\n",
    "                                   password=PASSWORD,\n",
    "                                   host=HOST,\n",
    "                                   port=PORT,\n",
    "                                   database=DATABASE,\n",
    "                                   connect=True,\n",
    "                                   objeto = 'pd')\n",
    "    dataframes.append(data)\n",
    "    \n",
    "\n",
    "# Checking duplicated ids\n",
    "print(\"\\nThere is duplicated ids ?\")\n",
    "for i in range(0,3):\n",
    "    df = dataframes[i]\n",
    "    dp = df[['id']].duplicated()\n",
    "    result = dp.unique()\n",
    "    print(f'\\nDuplicated ids in df {i} - {result}')"
   ]
  },
  {
   "cell_type": "code",
   "execution_count": 7,
   "metadata": {
    "ExecuteTime": {
     "end_time": "2021-01-09T19:17:00.000284Z",
     "start_time": "2021-01-09T19:16:59.854850Z"
    }
   },
   "outputs": [
    {
     "name": "stdout",
     "output_type": "stream",
     "text": [
      "set()\n"
     ]
    }
   ],
   "source": [
    "# Splitting the dataframes in differents DFs.\n",
    "\n",
    "# Insurance df\n",
    "insurance_df = dataframes[0]\n",
    "# Users df\n",
    "users_df = dataframes[1]\n",
    "# Vehicle df\n",
    "vehicles_df = dataframes[2]\n",
    "\n",
    "# Logical Test - we want a empty set\n",
    "diff = set(insurance_df['id']).difference(set(users_df['id']), set(vehicles_df['id']))\n",
    "print(diff)"
   ]
  },
  {
   "cell_type": "code",
   "execution_count": 8,
   "metadata": {
    "ExecuteTime": {
     "end_time": "2021-01-09T19:54:57.040384Z",
     "start_time": "2021-01-09T19:54:57.026446Z"
    }
   },
   "outputs": [
    {
     "data": {
      "text/html": [
       "<div>\n",
       "<style scoped>\n",
       "    .dataframe tbody tr th:only-of-type {\n",
       "        vertical-align: middle;\n",
       "    }\n",
       "\n",
       "    .dataframe tbody tr th {\n",
       "        vertical-align: top;\n",
       "    }\n",
       "\n",
       "    .dataframe thead th {\n",
       "        text-align: right;\n",
       "    }\n",
       "</style>\n",
       "<table border=\"1\" class=\"dataframe\">\n",
       "  <thead>\n",
       "    <tr style=\"text-align: right;\">\n",
       "      <th></th>\n",
       "      <th>id</th>\n",
       "      <th>driving_license</th>\n",
       "      <th>vehicle_age</th>\n",
       "      <th>vehicle_damage</th>\n",
       "    </tr>\n",
       "  </thead>\n",
       "  <tbody>\n",
       "    <tr>\n",
       "      <th>0</th>\n",
       "      <td>1</td>\n",
       "      <td>1</td>\n",
       "      <td>&gt; 2 Years</td>\n",
       "      <td>Yes</td>\n",
       "    </tr>\n",
       "    <tr>\n",
       "      <th>1</th>\n",
       "      <td>2</td>\n",
       "      <td>1</td>\n",
       "      <td>1-2 Year</td>\n",
       "      <td>No</td>\n",
       "    </tr>\n",
       "    <tr>\n",
       "      <th>2</th>\n",
       "      <td>3</td>\n",
       "      <td>1</td>\n",
       "      <td>&gt; 2 Years</td>\n",
       "      <td>Yes</td>\n",
       "    </tr>\n",
       "    <tr>\n",
       "      <th>3</th>\n",
       "      <td>4</td>\n",
       "      <td>1</td>\n",
       "      <td>&lt; 1 Year</td>\n",
       "      <td>No</td>\n",
       "    </tr>\n",
       "    <tr>\n",
       "      <th>4</th>\n",
       "      <td>5</td>\n",
       "      <td>1</td>\n",
       "      <td>&lt; 1 Year</td>\n",
       "      <td>No</td>\n",
       "    </tr>\n",
       "  </tbody>\n",
       "</table>\n",
       "</div>"
      ],
      "text/plain": [
       "   id  driving_license vehicle_age vehicle_damage\n",
       "0   1                1   > 2 Years            Yes\n",
       "1   2                1    1-2 Year             No\n",
       "2   3                1   > 2 Years            Yes\n",
       "3   4                1    < 1 Year             No\n",
       "4   5                1    < 1 Year             No"
      ]
     },
     "execution_count": 8,
     "metadata": {},
     "output_type": "execute_result"
    }
   ],
   "source": [
    "dataframes[2].head()"
   ]
  },
  {
   "cell_type": "markdown",
   "metadata": {
    "ExecuteTime": {
     "end_time": "2021-01-09T18:23:58.020097Z",
     "start_time": "2021-01-09T18:23:58.006373Z"
    },
    "heading_collapsed": "true"
   },
   "source": [
    "## Retriving all data with one Query"
   ]
  },
  {
   "cell_type": "code",
   "execution_count": 9,
   "metadata": {
    "ExecuteTime": {
     "end_time": "2021-01-09T20:01:56.973961Z",
     "start_time": "2021-01-09T20:00:52.443216Z"
    }
   },
   "outputs": [
    {
     "name": "stdout",
     "output_type": "stream",
     "text": [
      "Buscando os dados!!!\n",
      "Conexão com Postgresql fechada\n"
     ]
    },
    {
     "data": {
      "text/html": [
       "<div>\n",
       "<style scoped>\n",
       "    .dataframe tbody tr th:only-of-type {\n",
       "        vertical-align: middle;\n",
       "    }\n",
       "\n",
       "    .dataframe tbody tr th {\n",
       "        vertical-align: top;\n",
       "    }\n",
       "\n",
       "    .dataframe thead th {\n",
       "        text-align: right;\n",
       "    }\n",
       "</style>\n",
       "<table border=\"1\" class=\"dataframe\">\n",
       "  <thead>\n",
       "    <tr style=\"text-align: right;\">\n",
       "      <th></th>\n",
       "      <th>id</th>\n",
       "      <th>previously_insured</th>\n",
       "      <th>annual_premium</th>\n",
       "      <th>vintage</th>\n",
       "      <th>response</th>\n",
       "      <th>id</th>\n",
       "      <th>gender</th>\n",
       "      <th>age</th>\n",
       "      <th>region_code</th>\n",
       "      <th>policy_sales_channel</th>\n",
       "      <th>id</th>\n",
       "      <th>driving_license</th>\n",
       "      <th>vehicle_age</th>\n",
       "      <th>vehicle_damage</th>\n",
       "    </tr>\n",
       "  </thead>\n",
       "  <tbody>\n",
       "    <tr>\n",
       "      <th>0</th>\n",
       "      <td>7</td>\n",
       "      <td>0</td>\n",
       "      <td>23367.0</td>\n",
       "      <td>249</td>\n",
       "      <td>0</td>\n",
       "      <td>7</td>\n",
       "      <td>Male</td>\n",
       "      <td>23</td>\n",
       "      <td>11.0</td>\n",
       "      <td>152.0</td>\n",
       "      <td>7</td>\n",
       "      <td>1</td>\n",
       "      <td>&lt; 1 Year</td>\n",
       "      <td>Yes</td>\n",
       "    </tr>\n",
       "    <tr>\n",
       "      <th>1</th>\n",
       "      <td>13</td>\n",
       "      <td>1</td>\n",
       "      <td>31409.0</td>\n",
       "      <td>221</td>\n",
       "      <td>0</td>\n",
       "      <td>13</td>\n",
       "      <td>Female</td>\n",
       "      <td>41</td>\n",
       "      <td>15.0</td>\n",
       "      <td>14.0</td>\n",
       "      <td>13</td>\n",
       "      <td>1</td>\n",
       "      <td>1-2 Year</td>\n",
       "      <td>No</td>\n",
       "    </tr>\n",
       "    <tr>\n",
       "      <th>2</th>\n",
       "      <td>18</td>\n",
       "      <td>1</td>\n",
       "      <td>46622.0</td>\n",
       "      <td>299</td>\n",
       "      <td>0</td>\n",
       "      <td>18</td>\n",
       "      <td>Female</td>\n",
       "      <td>25</td>\n",
       "      <td>35.0</td>\n",
       "      <td>152.0</td>\n",
       "      <td>18</td>\n",
       "      <td>1</td>\n",
       "      <td>&lt; 1 Year</td>\n",
       "      <td>No</td>\n",
       "    </tr>\n",
       "    <tr>\n",
       "      <th>3</th>\n",
       "      <td>31</td>\n",
       "      <td>0</td>\n",
       "      <td>2630.0</td>\n",
       "      <td>136</td>\n",
       "      <td>0</td>\n",
       "      <td>31</td>\n",
       "      <td>Female</td>\n",
       "      <td>26</td>\n",
       "      <td>8.0</td>\n",
       "      <td>160.0</td>\n",
       "      <td>31</td>\n",
       "      <td>1</td>\n",
       "      <td>&lt; 1 Year</td>\n",
       "      <td>No</td>\n",
       "    </tr>\n",
       "    <tr>\n",
       "      <th>4</th>\n",
       "      <td>39</td>\n",
       "      <td>0</td>\n",
       "      <td>42297.0</td>\n",
       "      <td>264</td>\n",
       "      <td>0</td>\n",
       "      <td>39</td>\n",
       "      <td>Male</td>\n",
       "      <td>45</td>\n",
       "      <td>8.0</td>\n",
       "      <td>124.0</td>\n",
       "      <td>39</td>\n",
       "      <td>1</td>\n",
       "      <td>1-2 Year</td>\n",
       "      <td>Yes</td>\n",
       "    </tr>\n",
       "  </tbody>\n",
       "</table>\n",
       "</div>"
      ],
      "text/plain": [
       "   id  previously_insured  annual_premium  vintage  response  id  gender  age  \\\n",
       "0   7                   0         23367.0      249         0   7    Male   23   \n",
       "1  13                   1         31409.0      221         0  13  Female   41   \n",
       "2  18                   1         46622.0      299         0  18  Female   25   \n",
       "3  31                   0          2630.0      136         0  31  Female   26   \n",
       "4  39                   0         42297.0      264         0  39    Male   45   \n",
       "\n",
       "   region_code  policy_sales_channel  id  driving_license vehicle_age  \\\n",
       "0         11.0                 152.0   7                1    < 1 Year   \n",
       "1         15.0                  14.0  13                1    1-2 Year   \n",
       "2         35.0                 152.0  18                1    < 1 Year   \n",
       "3          8.0                 160.0  31                1    < 1 Year   \n",
       "4          8.0                 124.0  39                1    1-2 Year   \n",
       "\n",
       "  vehicle_damage  \n",
       "0            Yes  \n",
       "1             No  \n",
       "2             No  \n",
       "3             No  \n",
       "4            Yes  "
      ]
     },
     "execution_count": 9,
     "metadata": {},
     "output_type": "execute_result"
    }
   ],
   "source": [
    "# Query SQL to find the tables names\n",
    "query =   \"\"\"\n",
    "            SELECT * \n",
    "            FROM pa004.insurance i\n",
    "            INNER JOIN pa004.users u\n",
    "                 on i.id = u.id \n",
    "            INNER JOIN pa004.vehicle v\n",
    "                 on u.id = v.id\n",
    "          \"\"\"\n",
    "\n",
    "data = pc.Postgresql.retrieve_data(query=query,\n",
    "                                   user=USERNAME,\n",
    "                                   password=PASSWORD,\n",
    "                                   host=HOST,\n",
    "                                   port=PORT,\n",
    "                                   database=DATABASE,\n",
    "                                   connect=True,\n",
    "                                   objeto = 'pd')\n",
    "\n",
    "data.head()"
   ]
  },
  {
   "cell_type": "code",
   "execution_count": 10,
   "metadata": {},
   "outputs": [],
   "source": [
    "# Saving the data in disk, this way we dont need to send unnecessary requests to our database.\n",
    "data.to_csv('data/full_database.csv')"
   ]
  },
  {
   "cell_type": "markdown",
   "metadata": {},
   "source": [
    "# Data Description"
   ]
  },
  {
   "cell_type": "markdown",
   "metadata": {
    "heading_collapsed": "true"
   },
   "source": [
    "## Variable Index"
   ]
  },
  {
   "cell_type": "markdown",
   "metadata": {},
   "source": [
    "**id:**                      Unique ID for the customer\n",
    "\n",
    "**Gender:** \t             Gender of the customer\n",
    "\n",
    "**Age:** \t                 Age of the customer\n",
    "\n",
    "**Driving_License:** \t     0 : Customer does not have DL, 1 : Customer already has DL\n",
    "\n",
    "**Region_Code:** \t         Unique code for the region of the customer\n",
    "\n",
    "**Previously_Insured:** \t 1 : Customer already has Vehicle Insurance, 0 : Customer doesn't have Vehicle Insurance\n",
    "\n",
    "**Vehicle_Age:** \t         Age of the Vehicle\n",
    "\n",
    "**Vehicle_Damage:** \t     1 : Customer got his/her vehicle damaged in the past. 0 : Customer didn't get his/her vehicle damaged in the past.\n",
    "\n",
    "**Annual_Premium:** \t     The amount customer needs to pay as premium in the year   **- Values in Rs(Indian Rupee)**\n",
    "\n",
    "**PolicySalesChannel:** \t Anonymized Code for the channel of outreaching to the customer ie. Different Agents, Over Mail, Over Phone, In Person, etc.\n",
    "\n",
    "**Vintage:**\t             Number of Days, Customer has been associated with the company\n",
    "\n",
    "**Response:**                1 : Customer is interested, 0 : Customer is not interested"
   ]
  },
  {
   "cell_type": "markdown",
   "metadata": {
    "heading_collapsed": "true"
   },
   "source": [
    "## Collecting data from Disk"
   ]
  },
  {
   "cell_type": "code",
   "execution_count": 76,
   "metadata": {},
   "outputs": [],
   "source": [
    "# Collecting the data from disk.\n",
    "data = pd.read_csv('data/full_database.csv')\n",
    "\n",
    "# Dropping redudant columns.\n",
    "data.drop(['Unnamed: 0','id.1','id.2'], inplace=True, axis=1)"
   ]
  },
  {
   "cell_type": "code",
   "execution_count": 63,
   "metadata": {},
   "outputs": [
    {
     "data": {
      "text/html": [
       "<div>\n",
       "<style scoped>\n",
       "    .dataframe tbody tr th:only-of-type {\n",
       "        vertical-align: middle;\n",
       "    }\n",
       "\n",
       "    .dataframe tbody tr th {\n",
       "        vertical-align: top;\n",
       "    }\n",
       "\n",
       "    .dataframe thead th {\n",
       "        text-align: right;\n",
       "    }\n",
       "</style>\n",
       "<table border=\"1\" class=\"dataframe\">\n",
       "  <thead>\n",
       "    <tr style=\"text-align: right;\">\n",
       "      <th></th>\n",
       "      <th>id</th>\n",
       "      <th>previously_insured</th>\n",
       "      <th>annual_premium</th>\n",
       "      <th>vintage</th>\n",
       "      <th>response</th>\n",
       "      <th>gender</th>\n",
       "      <th>age</th>\n",
       "      <th>region_code</th>\n",
       "      <th>policy_sales_channel</th>\n",
       "      <th>driving_license</th>\n",
       "      <th>vehicle_age</th>\n",
       "      <th>vehicle_damage</th>\n",
       "    </tr>\n",
       "  </thead>\n",
       "  <tbody>\n",
       "    <tr>\n",
       "      <th>0</th>\n",
       "      <td>7</td>\n",
       "      <td>0</td>\n",
       "      <td>23367.0</td>\n",
       "      <td>249</td>\n",
       "      <td>0</td>\n",
       "      <td>Male</td>\n",
       "      <td>23</td>\n",
       "      <td>11.0</td>\n",
       "      <td>152.0</td>\n",
       "      <td>1</td>\n",
       "      <td>&lt; 1 Year</td>\n",
       "      <td>Yes</td>\n",
       "    </tr>\n",
       "    <tr>\n",
       "      <th>1</th>\n",
       "      <td>13</td>\n",
       "      <td>1</td>\n",
       "      <td>31409.0</td>\n",
       "      <td>221</td>\n",
       "      <td>0</td>\n",
       "      <td>Female</td>\n",
       "      <td>41</td>\n",
       "      <td>15.0</td>\n",
       "      <td>14.0</td>\n",
       "      <td>1</td>\n",
       "      <td>1-2 Year</td>\n",
       "      <td>No</td>\n",
       "    </tr>\n",
       "    <tr>\n",
       "      <th>2</th>\n",
       "      <td>18</td>\n",
       "      <td>1</td>\n",
       "      <td>46622.0</td>\n",
       "      <td>299</td>\n",
       "      <td>0</td>\n",
       "      <td>Female</td>\n",
       "      <td>25</td>\n",
       "      <td>35.0</td>\n",
       "      <td>152.0</td>\n",
       "      <td>1</td>\n",
       "      <td>&lt; 1 Year</td>\n",
       "      <td>No</td>\n",
       "    </tr>\n",
       "    <tr>\n",
       "      <th>3</th>\n",
       "      <td>31</td>\n",
       "      <td>0</td>\n",
       "      <td>2630.0</td>\n",
       "      <td>136</td>\n",
       "      <td>0</td>\n",
       "      <td>Female</td>\n",
       "      <td>26</td>\n",
       "      <td>8.0</td>\n",
       "      <td>160.0</td>\n",
       "      <td>1</td>\n",
       "      <td>&lt; 1 Year</td>\n",
       "      <td>No</td>\n",
       "    </tr>\n",
       "    <tr>\n",
       "      <th>4</th>\n",
       "      <td>39</td>\n",
       "      <td>0</td>\n",
       "      <td>42297.0</td>\n",
       "      <td>264</td>\n",
       "      <td>0</td>\n",
       "      <td>Male</td>\n",
       "      <td>45</td>\n",
       "      <td>8.0</td>\n",
       "      <td>124.0</td>\n",
       "      <td>1</td>\n",
       "      <td>1-2 Year</td>\n",
       "      <td>Yes</td>\n",
       "    </tr>\n",
       "  </tbody>\n",
       "</table>\n",
       "</div>"
      ],
      "text/plain": [
       "   id  previously_insured  annual_premium  vintage  response  gender  age  \\\n",
       "0   7                   0         23367.0      249         0    Male   23   \n",
       "1  13                   1         31409.0      221         0  Female   41   \n",
       "2  18                   1         46622.0      299         0  Female   25   \n",
       "3  31                   0          2630.0      136         0  Female   26   \n",
       "4  39                   0         42297.0      264         0    Male   45   \n",
       "\n",
       "   region_code  policy_sales_channel  driving_license vehicle_age  \\\n",
       "0         11.0                 152.0                1    < 1 Year   \n",
       "1         15.0                  14.0                1    1-2 Year   \n",
       "2         35.0                 152.0                1    < 1 Year   \n",
       "3          8.0                 160.0                1    < 1 Year   \n",
       "4          8.0                 124.0                1    1-2 Year   \n",
       "\n",
       "  vehicle_damage  \n",
       "0            Yes  \n",
       "1             No  \n",
       "2             No  \n",
       "3             No  \n",
       "4            Yes  "
      ]
     },
     "execution_count": 63,
     "metadata": {},
     "output_type": "execute_result"
    }
   ],
   "source": [
    "data.head()"
   ]
  },
  {
   "cell_type": "markdown",
   "metadata": {
    "heading_collapsed": "true"
   },
   "source": [
    "## General Describe of Data. "
   ]
  },
  {
   "cell_type": "code",
   "execution_count": 8,
   "metadata": {},
   "outputs": [
    {
     "data": {
      "text/html": [
       "<div>\n",
       "<style scoped>\n",
       "    .dataframe tbody tr th:only-of-type {\n",
       "        vertical-align: middle;\n",
       "    }\n",
       "\n",
       "    .dataframe tbody tr th {\n",
       "        vertical-align: top;\n",
       "    }\n",
       "\n",
       "    .dataframe thead th {\n",
       "        text-align: right;\n",
       "    }\n",
       "</style>\n",
       "<table border=\"1\" class=\"dataframe\">\n",
       "  <thead>\n",
       "    <tr style=\"text-align: right;\">\n",
       "      <th></th>\n",
       "      <th>missing</th>\n",
       "      <th>uniques</th>\n",
       "      <th>dtypes</th>\n",
       "      <th>min</th>\n",
       "      <th>mean</th>\n",
       "      <th>median</th>\n",
       "      <th>max</th>\n",
       "      <th>skew</th>\n",
       "      <th>kurtosis</th>\n",
       "    </tr>\n",
       "  </thead>\n",
       "  <tbody>\n",
       "    <tr>\n",
       "      <th>age</th>\n",
       "      <td>0.0</td>\n",
       "      <td>66</td>\n",
       "      <td>int64</td>\n",
       "      <td>20</td>\n",
       "      <td>38.822584</td>\n",
       "      <td>36.0</td>\n",
       "      <td>85</td>\n",
       "      <td>6.725390e-01</td>\n",
       "      <td>-0.565655</td>\n",
       "    </tr>\n",
       "    <tr>\n",
       "      <th>annual_premium</th>\n",
       "      <td>0.0</td>\n",
       "      <td>48838</td>\n",
       "      <td>float64</td>\n",
       "      <td>2630.0</td>\n",
       "      <td>30564.389581</td>\n",
       "      <td>31669.0</td>\n",
       "      <td>540165.0</td>\n",
       "      <td>1.766087e+00</td>\n",
       "      <td>34.004569</td>\n",
       "    </tr>\n",
       "    <tr>\n",
       "      <th>driving_license</th>\n",
       "      <td>0.0</td>\n",
       "      <td>2</td>\n",
       "      <td>int64</td>\n",
       "      <td>0</td>\n",
       "      <td>0.997869</td>\n",
       "      <td>1.0</td>\n",
       "      <td>1</td>\n",
       "      <td>-2.159518e+01</td>\n",
       "      <td>464.354302</td>\n",
       "    </tr>\n",
       "    <tr>\n",
       "      <th>gender</th>\n",
       "      <td>0.0</td>\n",
       "      <td>2</td>\n",
       "      <td>object</td>\n",
       "      <td>Female</td>\n",
       "      <td>NaN</td>\n",
       "      <td>NaN</td>\n",
       "      <td>Male</td>\n",
       "      <td>NaN</td>\n",
       "      <td>NaN</td>\n",
       "    </tr>\n",
       "    <tr>\n",
       "      <th>id</th>\n",
       "      <td>0.0</td>\n",
       "      <td>381109</td>\n",
       "      <td>int64</td>\n",
       "      <td>1</td>\n",
       "      <td>190555.000000</td>\n",
       "      <td>190555.0</td>\n",
       "      <td>381109</td>\n",
       "      <td>-8.071174e-18</td>\n",
       "      <td>-1.200000</td>\n",
       "    </tr>\n",
       "    <tr>\n",
       "      <th>policy_sales_channel</th>\n",
       "      <td>0.0</td>\n",
       "      <td>155</td>\n",
       "      <td>float64</td>\n",
       "      <td>1.0</td>\n",
       "      <td>112.034295</td>\n",
       "      <td>133.0</td>\n",
       "      <td>163.0</td>\n",
       "      <td>-9.000081e-01</td>\n",
       "      <td>-0.970810</td>\n",
       "    </tr>\n",
       "    <tr>\n",
       "      <th>previously_insured</th>\n",
       "      <td>0.0</td>\n",
       "      <td>2</td>\n",
       "      <td>int64</td>\n",
       "      <td>0</td>\n",
       "      <td>0.458210</td>\n",
       "      <td>0.0</td>\n",
       "      <td>1</td>\n",
       "      <td>1.677471e-01</td>\n",
       "      <td>-1.971871</td>\n",
       "    </tr>\n",
       "    <tr>\n",
       "      <th>region_code</th>\n",
       "      <td>0.0</td>\n",
       "      <td>53</td>\n",
       "      <td>float64</td>\n",
       "      <td>0.0</td>\n",
       "      <td>26.388807</td>\n",
       "      <td>28.0</td>\n",
       "      <td>52.0</td>\n",
       "      <td>-1.152664e-01</td>\n",
       "      <td>-0.867857</td>\n",
       "    </tr>\n",
       "    <tr>\n",
       "      <th>response</th>\n",
       "      <td>0.0</td>\n",
       "      <td>2</td>\n",
       "      <td>int64</td>\n",
       "      <td>0</td>\n",
       "      <td>0.122563</td>\n",
       "      <td>0.0</td>\n",
       "      <td>1</td>\n",
       "      <td>2.301906e+00</td>\n",
       "      <td>3.298788</td>\n",
       "    </tr>\n",
       "    <tr>\n",
       "      <th>vehicle_age</th>\n",
       "      <td>0.0</td>\n",
       "      <td>3</td>\n",
       "      <td>object</td>\n",
       "      <td>1-2 Year</td>\n",
       "      <td>NaN</td>\n",
       "      <td>NaN</td>\n",
       "      <td>&gt; 2 Years</td>\n",
       "      <td>NaN</td>\n",
       "      <td>NaN</td>\n",
       "    </tr>\n",
       "    <tr>\n",
       "      <th>vehicle_damage</th>\n",
       "      <td>0.0</td>\n",
       "      <td>2</td>\n",
       "      <td>object</td>\n",
       "      <td>No</td>\n",
       "      <td>NaN</td>\n",
       "      <td>NaN</td>\n",
       "      <td>Yes</td>\n",
       "      <td>NaN</td>\n",
       "      <td>NaN</td>\n",
       "    </tr>\n",
       "    <tr>\n",
       "      <th>vintage</th>\n",
       "      <td>0.0</td>\n",
       "      <td>290</td>\n",
       "      <td>int64</td>\n",
       "      <td>10</td>\n",
       "      <td>154.347397</td>\n",
       "      <td>154.0</td>\n",
       "      <td>299</td>\n",
       "      <td>3.029517e-03</td>\n",
       "      <td>-1.200688</td>\n",
       "    </tr>\n",
       "  </tbody>\n",
       "</table>\n",
       "</div>"
      ],
      "text/plain": [
       "                      missing  uniques   dtypes       min           mean  \\\n",
       "age                       0.0       66    int64        20      38.822584   \n",
       "annual_premium            0.0    48838  float64    2630.0   30564.389581   \n",
       "driving_license           0.0        2    int64         0       0.997869   \n",
       "gender                    0.0        2   object    Female            NaN   \n",
       "id                        0.0   381109    int64         1  190555.000000   \n",
       "policy_sales_channel      0.0      155  float64       1.0     112.034295   \n",
       "previously_insured        0.0        2    int64         0       0.458210   \n",
       "region_code               0.0       53  float64       0.0      26.388807   \n",
       "response                  0.0        2    int64         0       0.122563   \n",
       "vehicle_age               0.0        3   object  1-2 Year            NaN   \n",
       "vehicle_damage            0.0        2   object        No            NaN   \n",
       "vintage                   0.0      290    int64        10     154.347397   \n",
       "\n",
       "                        median        max          skew    kurtosis  \n",
       "age                       36.0         85  6.725390e-01   -0.565655  \n",
       "annual_premium         31669.0   540165.0  1.766087e+00   34.004569  \n",
       "driving_license            1.0          1 -2.159518e+01  464.354302  \n",
       "gender                     NaN       Male           NaN         NaN  \n",
       "id                    190555.0     381109 -8.071174e-18   -1.200000  \n",
       "policy_sales_channel     133.0      163.0 -9.000081e-01   -0.970810  \n",
       "previously_insured         0.0          1  1.677471e-01   -1.971871  \n",
       "region_code               28.0       52.0 -1.152664e-01   -0.867857  \n",
       "response                   0.0          1  2.301906e+00    3.298788  \n",
       "vehicle_age                NaN  > 2 Years           NaN         NaN  \n",
       "vehicle_damage             NaN        Yes           NaN         NaN  \n",
       "vintage                  154.0        299  3.029517e-03   -1.200688  "
      ]
     },
     "execution_count": 8,
     "metadata": {},
     "output_type": "execute_result"
    }
   ],
   "source": [
    "# Describe\n",
    "pd.DataFrame({'missing' :data.isna().mean(),\n",
    "              'uniques' :data.nunique(),\n",
    "              'dtypes'  :data.dtypes,\n",
    "              'min'     :data.min(),\n",
    "              'mean'    :data.mean(),\n",
    "              'median'  :data.median(),\n",
    "              'max'     :data.max(),\n",
    "              'skew'    :data.skew(),\n",
    "              'kurtosis':data.kurtosis()})"
   ]
  },
  {
   "cell_type": "markdown",
   "metadata": {},
   "source": [
    " - We have no missing value.\n",
    " - annual_premium, policy_sales_channel, region_code, vintage has diferent scales min: 2630.0  max: 540165.0.\n",
    " - driving_license, previously_insured, vehicle_age, vehicle_damage, previously_insured is categorical feature and not int64.\n",
    " - the annual_premium has large values for brazillian standarts we will convert it from Rs (Indian Rupee) to BRL (Brazilliam Real)\n",
    " - response is our Target variable.\n",
    " - id is our unique feature."
   ]
  },
  {
   "cell_type": "markdown",
   "metadata": {
    "heading_collapsed": "true"
   },
   "source": [
    "## Changing dtypes of our dataset"
   ]
  },
  {
   "cell_type": "code",
   "execution_count": 9,
   "metadata": {},
   "outputs": [],
   "source": [
    "# Category variabels\n",
    "variables = ['driving_license', \n",
    "             'previously_insured', \n",
    "             'vehicle_age', \n",
    "             'vehicle_damage', \n",
    "             'previously_insured', \n",
    "             'gender',\n",
    "             'response']\n",
    "\n",
    "for var in variables:\n",
    "    data[var] = data[var].astype('category')"
   ]
  },
  {
   "cell_type": "markdown",
   "metadata": {
    "heading_collapsed": "true"
   },
   "source": [
    "## Target - response"
   ]
  },
  {
   "cell_type": "code",
   "execution_count": 10,
   "metadata": {},
   "outputs": [
    {
     "data": {
      "text/plain": [
       "response\n",
       "0    87.743664\n",
       "1    12.256336\n",
       "Name: id, dtype: float64"
      ]
     },
     "execution_count": 10,
     "metadata": {},
     "output_type": "execute_result"
    },
    {
     "data": {
      "image/png": "[encoded data removed]",
      "text/plain": [
       "<Figure size 720x432 with 1 Axes>"
      ]
     },
     "metadata": {
      "needs_background": "light"
     },
     "output_type": "display_data"
    }
   ],
   "source": [
    "# Checkando o balanciamento da variável Target\n",
    "ax = sns.countplot(x='response', hue=None, data=data)\n",
    "ax.figure.set_size_inches(10, 6)\n",
    "ax.set_title('Feature Frequency', fontsize=18, loc='center')\n",
    "ax.set_xlabel('Customers Response', fontsize=14)\n",
    "ax.set_ylabel('Count', fontsize=14)\n",
    "ax=ax\n",
    "\n",
    "# Percentual de observações por valores Geography\n",
    "data.groupby('response').count()['id'].apply(lambda x: (x/data.shape[0])*100)"
   ]
  },
  {
   "cell_type": "markdown",
   "metadata": {},
   "source": [
    "- We have an unbalanced target with 87.74% to not interested and 12.25% to interest in purchase the insurance."
   ]
  },
  {
   "cell_type": "markdown",
   "metadata": {
    "heading_collapsed": "true"
   },
   "source": [
    "## Gender vs Response"
   ]
  },
  {
   "cell_type": "code",
   "execution_count": 11,
   "metadata": {},
   "outputs": [
    {
     "data": {
      "image/png": "[encoded data removed]",
      "text/plain": [
       "<Figure size 720x432 with 1 Axes>"
      ]
     },
     "metadata": {
      "needs_background": "light"
     },
     "output_type": "display_data"
    }
   ],
   "source": [
    "ax = sns.countplot(x='gender', hue='response', data=data)\n",
    "ax.figure.set_size_inches(10, 6)\n",
    "ax.set_title('Feature Frequency', fontsize=18, loc='center')\n",
    "ax.set_xlabel('Gender', fontsize=14)\n",
    "ax.set_ylabel('Count', fontsize=14)\n",
    "ax=ax"
   ]
  },
  {
   "cell_type": "code",
   "execution_count": 12,
   "metadata": {},
   "outputs": [
    {
     "data": {
      "text/plain": [
       "gender\n",
       "Female    45.92387\n",
       "Male      54.07613\n",
       "Name: id, dtype: float64"
      ]
     },
     "execution_count": 12,
     "metadata": {},
     "output_type": "execute_result"
    }
   ],
   "source": [
    "# Porcentage of observations by Gender\n",
    "data.groupby('gender').count()['id'].apply(lambda x: (x/data.shape[0])*100)"
   ]
  },
  {
   "cell_type": "markdown",
   "metadata": {},
   "source": [
    "- We cant find a concentration of the positive event by gender. With the majority of males"
   ]
  },
  {
   "cell_type": "markdown",
   "metadata": {
    "heading_collapsed": "true"
   },
   "source": [
    "## driving_license vs response"
   ]
  },
  {
   "cell_type": "code",
   "execution_count": 13,
   "metadata": {},
   "outputs": [
    {
     "data": {
      "image/png": "[encoded data removed]",
      "text/plain": [
       "<Figure size 720x432 with 1 Axes>"
      ]
     },
     "metadata": {
      "needs_background": "light"
     },
     "output_type": "display_data"
    }
   ],
   "source": [
    "ax = sns.countplot(x='driving_license', hue='response', data=data)\n",
    "ax.figure.set_size_inches(10, 6)\n",
    "ax.set_title('Feature Frequency', fontsize=18, loc='center')\n",
    "ax.set_xlabel('Driving License', fontsize=14)\n",
    "ax.set_ylabel('Count', fontsize=14)\n",
    "ax=ax"
   ]
  },
  {
   "cell_type": "code",
   "execution_count": 14,
   "metadata": {},
   "outputs": [
    {
     "data": {
      "text/plain": [
       "driving_license\n",
       "0     0.213062\n",
       "1    99.786938\n",
       "Name: id, dtype: float64"
      ]
     },
     "execution_count": 14,
     "metadata": {},
     "output_type": "execute_result"
    }
   ],
   "source": [
    "# Porcentage of observations by driving_license\n",
    "data.groupby('driving_license').count()['id'].apply(lambda x: (x/data.shape[0])*100)"
   ]
  },
  {
   "cell_type": "markdown",
   "metadata": {},
   "source": [
    "- We can see that the majority of our customers has driving license."
   ]
  },
  {
   "cell_type": "markdown",
   "metadata": {
    "heading_collapsed": "true"
   },
   "source": [
    "## previously_insured vs response"
   ]
  },
  {
   "cell_type": "code",
   "execution_count": 62,
   "metadata": {},
   "outputs": [
    {
     "data": {
      "image/png": "[encoded data removed]",
      "text/plain": [
       "<Figure size 720x432 with 1 Axes>"
      ]
     },
     "metadata": {
      "needs_background": "light"
     },
     "output_type": "display_data"
    }
   ],
   "source": [
    "ax = sns.countplot(x='previously_insured', hue='response', data=data)\n",
    "ax.figure.set_size_inches(10, 6)\n",
    "ax.set_title('Feature Frequency', fontsize=18, loc='center')\n",
    "ax.set_xlabel('Previously Insured', fontsize=14)\n",
    "ax.set_ylabel('Count', fontsize=14)\n",
    "ax=ax"
   ]
  },
  {
   "cell_type": "code",
   "execution_count": 15,
   "metadata": {},
   "outputs": [
    {
     "data": {
      "text/plain": [
       "previously_insured\n",
       "0    54.178988\n",
       "1    45.821012\n",
       "Name: id, dtype: float64"
      ]
     },
     "execution_count": 15,
     "metadata": {},
     "output_type": "execute_result"
    }
   ],
   "source": [
    "# Porcentage of observations by previously_insured\n",
    "data.groupby('previously_insured').count()['id'].apply(lambda x: (x/data.shape[0])*100)"
   ]
  },
  {
   "cell_type": "markdown",
   "metadata": {},
   "source": [
    "- We can see that the interest in purchase a insurance is higher when you dont have a previously insured."
   ]
  },
  {
   "cell_type": "markdown",
   "metadata": {
    "heading_collapsed": "true"
   },
   "source": [
    "## vehicle_age vs response"
   ]
  },
  {
   "cell_type": "code",
   "execution_count": 63,
   "metadata": {},
   "outputs": [
    {
     "data": {
      "image/png": "[encoded data removed]",
      "text/plain": [
       "<Figure size 720x432 with 1 Axes>"
      ]
     },
     "metadata": {
      "needs_background": "light"
     },
     "output_type": "display_data"
    }
   ],
   "source": [
    "ax = sns.countplot(x='vehicle_age', hue='response', data=data)\n",
    "ax.figure.set_size_inches(10, 6)\n",
    "ax.set_title('Feature Frequency', fontsize=18, loc='center')\n",
    "ax.set_xlabel('Vehicle Age', fontsize=14)\n",
    "ax.set_ylabel('Count', fontsize=14)\n",
    "ax=ax"
   ]
  },
  {
   "cell_type": "markdown",
   "metadata": {},
   "source": [
    "- Strong concentration of interest with owner between 1 and 2 years also its the majority in the 1-2 Year category."
   ]
  },
  {
   "cell_type": "code",
   "execution_count": 69,
   "metadata": {},
   "outputs": [
    {
     "data": {
      "text/plain": [
       "vehicle_age\n",
       "1-2 Year     52.561341\n",
       "< 1 Year     43.238549\n",
       "> 2 Years     4.200111\n",
       "Name: id, dtype: float64"
      ]
     },
     "execution_count": 69,
     "metadata": {},
     "output_type": "execute_result"
    }
   ],
   "source": [
    "# Porcentage of observations by previously_insured\n",
    "data.groupby('vehicle_age').count()['id'].apply(lambda x: (x/data.shape[0])*100)"
   ]
  },
  {
   "cell_type": "markdown",
   "metadata": {
    "heading_collapsed": "true"
   },
   "source": [
    "## vehicle_damage vs response"
   ]
  },
  {
   "cell_type": "code",
   "execution_count": 16,
   "metadata": {},
   "outputs": [
    {
     "data": {
      "image/png": "[encoded data removed]",
      "text/plain": [
       "<Figure size 720x432 with 1 Axes>"
      ]
     },
     "metadata": {
      "needs_background": "light"
     },
     "output_type": "display_data"
    }
   ],
   "source": [
    "ax = sns.countplot(x='vehicle_damage', hue='response', data=data)\n",
    "ax.figure.set_size_inches(10, 6)\n",
    "ax.set_title('Feature Frequency', fontsize=18, loc='center')\n",
    "ax.set_xlabel('Vehicle Damage', fontsize=14)\n",
    "ax.set_ylabel('Count', fontsize=14)\n",
    "ax=ax"
   ]
  },
  {
   "cell_type": "markdown",
   "metadata": {},
   "source": [
    "- Strong concentration of interest with owners of damaged vehicle."
   ]
  },
  {
   "cell_type": "code",
   "execution_count": 17,
   "metadata": {},
   "outputs": [
    {
     "data": {
      "text/plain": [
       "vehicle_damage\n",
       "No     49.512344\n",
       "Yes    50.487656\n",
       "Name: id, dtype: float64"
      ]
     },
     "execution_count": 17,
     "metadata": {},
     "output_type": "execute_result"
    }
   ],
   "source": [
    "# Porcentage of observations by previously_insured\n",
    "data.groupby('vehicle_damage').count()['id'].apply(lambda x: (x/data.shape[0])*100)"
   ]
  },
  {
   "cell_type": "markdown",
   "metadata": {
    "heading_collapsed": "true"
   },
   "source": [
    "## Cheking the presense of outliers"
   ]
  },
  {
   "cell_type": "code",
   "execution_count": 18,
   "metadata": {},
   "outputs": [
    {
     "data": {
      "image/png": "[encoded data removed]",
      "text/plain": [
       "<Figure size 1296x720 with 6 Axes>"
      ]
     },
     "metadata": {
      "needs_background": "light"
     },
     "output_type": "display_data"
    }
   ],
   "source": [
    "# Variáveis\n",
    "variables = data.select_dtypes(['int64', 'float64']).columns.to_list()\n",
    "\n",
    "# Setando a posicão inicial\n",
    "n = 1\n",
    "\n",
    "plt.figure(figsize=(18, 10))\n",
    "for column in data[variables].columns:\n",
    "    plt.subplot(4, 4, n)\n",
    "    _ = sns.boxplot(x=column, data=data)\n",
    "    n += 1\n",
    "\n",
    "plt.subplots_adjust(hspace=0.5)\n",
    "plt.show()"
   ]
  },
  {
   "cell_type": "markdown",
   "metadata": {},
   "source": [
    "- We can observe outliers at annual_premimum."
   ]
  },
  {
   "cell_type": "markdown",
   "metadata": {},
   "source": [
    "### annual_premium"
   ]
  },
  {
   "cell_type": "code",
   "execution_count": 19,
   "metadata": {},
   "outputs": [
    {
     "name": "stdout",
     "output_type": "stream",
     "text": [
      "Low Limit is 1912.5\n",
      "High Limit is 61892.5\n"
     ]
    }
   ],
   "source": [
    "# Calculando o Q1 e Q3 e IQR\n",
    "Q1 = np.quantile(data['annual_premium'], .25)\n",
    "Q3 = np.quantile(data['annual_premium'], .75)\n",
    "IQR = Q3 - Q1\n",
    "\n",
    "# Calculando os limites low and high\n",
    "low = Q1 - 1.5 * IQR\n",
    "high = Q3 + 1.5 * IQR\n",
    "\n",
    "# priting the limits\n",
    "print(f'Low Limit is {low}')\n",
    "print(f'High Limit is {high}')"
   ]
  },
  {
   "cell_type": "markdown",
   "metadata": {},
   "source": [
    "# Feature Engineering"
   ]
  },
  {
   "cell_type": "markdown",
   "metadata": {},
   "source": [
    "## Converting the annual premium"
   ]
  },
  {
   "cell_type": "code",
   "execution_count": 77,
   "metadata": {},
   "outputs": [],
   "source": [
    "# Exchabge Rate - BRL X Rs = 0.07490\n",
    "data['annual_premium_brl'] = data['annual_premium'].apply(lambda x: convert_rs_to_brl(x, rate=0.07490))"
   ]
  },
  {
   "cell_type": "code",
   "execution_count": 65,
   "metadata": {},
   "outputs": [
    {
     "data": {
      "text/html": [
       "<div>\n",
       "<style scoped>\n",
       "    .dataframe tbody tr th:only-of-type {\n",
       "        vertical-align: middle;\n",
       "    }\n",
       "\n",
       "    .dataframe tbody tr th {\n",
       "        vertical-align: top;\n",
       "    }\n",
       "\n",
       "    .dataframe thead th {\n",
       "        text-align: right;\n",
       "    }\n",
       "</style>\n",
       "<table border=\"1\" class=\"dataframe\">\n",
       "  <thead>\n",
       "    <tr style=\"text-align: right;\">\n",
       "      <th></th>\n",
       "      <th>id</th>\n",
       "      <th>previously_insured</th>\n",
       "      <th>annual_premium</th>\n",
       "      <th>vintage</th>\n",
       "      <th>response</th>\n",
       "      <th>gender</th>\n",
       "      <th>age</th>\n",
       "      <th>region_code</th>\n",
       "      <th>policy_sales_channel</th>\n",
       "      <th>driving_license</th>\n",
       "      <th>vehicle_age</th>\n",
       "      <th>vehicle_damage</th>\n",
       "      <th>annual_premium_brl</th>\n",
       "    </tr>\n",
       "  </thead>\n",
       "  <tbody>\n",
       "    <tr>\n",
       "      <th>0</th>\n",
       "      <td>7</td>\n",
       "      <td>0</td>\n",
       "      <td>23367.0</td>\n",
       "      <td>249</td>\n",
       "      <td>0</td>\n",
       "      <td>Male</td>\n",
       "      <td>23</td>\n",
       "      <td>11.0</td>\n",
       "      <td>152.0</td>\n",
       "      <td>1</td>\n",
       "      <td>&lt; 1 Year</td>\n",
       "      <td>Yes</td>\n",
       "      <td>1750.1883</td>\n",
       "    </tr>\n",
       "    <tr>\n",
       "      <th>1</th>\n",
       "      <td>13</td>\n",
       "      <td>1</td>\n",
       "      <td>31409.0</td>\n",
       "      <td>221</td>\n",
       "      <td>0</td>\n",
       "      <td>Female</td>\n",
       "      <td>41</td>\n",
       "      <td>15.0</td>\n",
       "      <td>14.0</td>\n",
       "      <td>1</td>\n",
       "      <td>1-2 Year</td>\n",
       "      <td>No</td>\n",
       "      <td>2352.5341</td>\n",
       "    </tr>\n",
       "    <tr>\n",
       "      <th>2</th>\n",
       "      <td>18</td>\n",
       "      <td>1</td>\n",
       "      <td>46622.0</td>\n",
       "      <td>299</td>\n",
       "      <td>0</td>\n",
       "      <td>Female</td>\n",
       "      <td>25</td>\n",
       "      <td>35.0</td>\n",
       "      <td>152.0</td>\n",
       "      <td>1</td>\n",
       "      <td>&lt; 1 Year</td>\n",
       "      <td>No</td>\n",
       "      <td>3491.9878</td>\n",
       "    </tr>\n",
       "    <tr>\n",
       "      <th>3</th>\n",
       "      <td>31</td>\n",
       "      <td>0</td>\n",
       "      <td>2630.0</td>\n",
       "      <td>136</td>\n",
       "      <td>0</td>\n",
       "      <td>Female</td>\n",
       "      <td>26</td>\n",
       "      <td>8.0</td>\n",
       "      <td>160.0</td>\n",
       "      <td>1</td>\n",
       "      <td>&lt; 1 Year</td>\n",
       "      <td>No</td>\n",
       "      <td>196.9870</td>\n",
       "    </tr>\n",
       "    <tr>\n",
       "      <th>4</th>\n",
       "      <td>39</td>\n",
       "      <td>0</td>\n",
       "      <td>42297.0</td>\n",
       "      <td>264</td>\n",
       "      <td>0</td>\n",
       "      <td>Male</td>\n",
       "      <td>45</td>\n",
       "      <td>8.0</td>\n",
       "      <td>124.0</td>\n",
       "      <td>1</td>\n",
       "      <td>1-2 Year</td>\n",
       "      <td>Yes</td>\n",
       "      <td>3168.0453</td>\n",
       "    </tr>\n",
       "  </tbody>\n",
       "</table>\n",
       "</div>"
      ],
      "text/plain": [
       "   id  previously_insured  annual_premium  vintage  response  gender  age  \\\n",
       "0   7                   0         23367.0      249         0    Male   23   \n",
       "1  13                   1         31409.0      221         0  Female   41   \n",
       "2  18                   1         46622.0      299         0  Female   25   \n",
       "3  31                   0          2630.0      136         0  Female   26   \n",
       "4  39                   0         42297.0      264         0    Male   45   \n",
       "\n",
       "   region_code  policy_sales_channel  driving_license vehicle_age  \\\n",
       "0         11.0                 152.0                1    < 1 Year   \n",
       "1         15.0                  14.0                1    1-2 Year   \n",
       "2         35.0                 152.0                1    < 1 Year   \n",
       "3          8.0                 160.0                1    < 1 Year   \n",
       "4          8.0                 124.0                1    1-2 Year   \n",
       "\n",
       "  vehicle_damage  annual_premium_brl  \n",
       "0            Yes           1750.1883  \n",
       "1             No           2352.5341  \n",
       "2             No           3491.9878  \n",
       "3             No            196.9870  \n",
       "4            Yes           3168.0453  "
      ]
     },
     "execution_count": 65,
     "metadata": {},
     "output_type": "execute_result"
    }
   ],
   "source": [
    "# Annual_premium_brl created - We will use annual_premium_brl\n",
    "data.head()"
   ]
  },
  {
   "cell_type": "markdown",
   "metadata": {},
   "source": [
    "## annual_premium_brl squared"
   ]
  },
  {
   "cell_type": "code",
   "execution_count": 78,
   "metadata": {},
   "outputs": [
    {
     "data": {
      "text/html": [
       "<div>\n",
       "<style scoped>\n",
       "    .dataframe tbody tr th:only-of-type {\n",
       "        vertical-align: middle;\n",
       "    }\n",
       "\n",
       "    .dataframe tbody tr th {\n",
       "        vertical-align: top;\n",
       "    }\n",
       "\n",
       "    .dataframe thead th {\n",
       "        text-align: right;\n",
       "    }\n",
       "</style>\n",
       "<table border=\"1\" class=\"dataframe\">\n",
       "  <thead>\n",
       "    <tr style=\"text-align: right;\">\n",
       "      <th></th>\n",
       "      <th>id</th>\n",
       "      <th>previously_insured</th>\n",
       "      <th>annual_premium</th>\n",
       "      <th>vintage</th>\n",
       "      <th>response</th>\n",
       "      <th>gender</th>\n",
       "      <th>age</th>\n",
       "      <th>region_code</th>\n",
       "      <th>policy_sales_channel</th>\n",
       "      <th>driving_license</th>\n",
       "      <th>vehicle_age</th>\n",
       "      <th>vehicle_damage</th>\n",
       "      <th>annual_premium_brl</th>\n",
       "      <th>annual_premium_brl_squared</th>\n",
       "    </tr>\n",
       "  </thead>\n",
       "  <tbody>\n",
       "    <tr>\n",
       "      <th>0</th>\n",
       "      <td>7</td>\n",
       "      <td>0</td>\n",
       "      <td>23367.0</td>\n",
       "      <td>249</td>\n",
       "      <td>0</td>\n",
       "      <td>Male</td>\n",
       "      <td>23</td>\n",
       "      <td>11.0</td>\n",
       "      <td>152.0</td>\n",
       "      <td>1</td>\n",
       "      <td>&lt; 1 Year</td>\n",
       "      <td>Yes</td>\n",
       "      <td>1750.1883</td>\n",
       "      <td>3.063159e+06</td>\n",
       "    </tr>\n",
       "    <tr>\n",
       "      <th>1</th>\n",
       "      <td>13</td>\n",
       "      <td>1</td>\n",
       "      <td>31409.0</td>\n",
       "      <td>221</td>\n",
       "      <td>0</td>\n",
       "      <td>Female</td>\n",
       "      <td>41</td>\n",
       "      <td>15.0</td>\n",
       "      <td>14.0</td>\n",
       "      <td>1</td>\n",
       "      <td>1-2 Year</td>\n",
       "      <td>No</td>\n",
       "      <td>2352.5341</td>\n",
       "      <td>5.534417e+06</td>\n",
       "    </tr>\n",
       "    <tr>\n",
       "      <th>2</th>\n",
       "      <td>18</td>\n",
       "      <td>1</td>\n",
       "      <td>46622.0</td>\n",
       "      <td>299</td>\n",
       "      <td>0</td>\n",
       "      <td>Female</td>\n",
       "      <td>25</td>\n",
       "      <td>35.0</td>\n",
       "      <td>152.0</td>\n",
       "      <td>1</td>\n",
       "      <td>&lt; 1 Year</td>\n",
       "      <td>No</td>\n",
       "      <td>3491.9878</td>\n",
       "      <td>1.219398e+07</td>\n",
       "    </tr>\n",
       "    <tr>\n",
       "      <th>3</th>\n",
       "      <td>31</td>\n",
       "      <td>0</td>\n",
       "      <td>2630.0</td>\n",
       "      <td>136</td>\n",
       "      <td>0</td>\n",
       "      <td>Female</td>\n",
       "      <td>26</td>\n",
       "      <td>8.0</td>\n",
       "      <td>160.0</td>\n",
       "      <td>1</td>\n",
       "      <td>&lt; 1 Year</td>\n",
       "      <td>No</td>\n",
       "      <td>196.9870</td>\n",
       "      <td>3.880388e+04</td>\n",
       "    </tr>\n",
       "    <tr>\n",
       "      <th>4</th>\n",
       "      <td>39</td>\n",
       "      <td>0</td>\n",
       "      <td>42297.0</td>\n",
       "      <td>264</td>\n",
       "      <td>0</td>\n",
       "      <td>Male</td>\n",
       "      <td>45</td>\n",
       "      <td>8.0</td>\n",
       "      <td>124.0</td>\n",
       "      <td>1</td>\n",
       "      <td>1-2 Year</td>\n",
       "      <td>Yes</td>\n",
       "      <td>3168.0453</td>\n",
       "      <td>1.003651e+07</td>\n",
       "    </tr>\n",
       "  </tbody>\n",
       "</table>\n",
       "</div>"
      ],
      "text/plain": [
       "   id  previously_insured  annual_premium  vintage  response  gender  age  \\\n",
       "0   7                   0         23367.0      249         0    Male   23   \n",
       "1  13                   1         31409.0      221         0  Female   41   \n",
       "2  18                   1         46622.0      299         0  Female   25   \n",
       "3  31                   0          2630.0      136         0  Female   26   \n",
       "4  39                   0         42297.0      264         0    Male   45   \n",
       "\n",
       "   region_code  policy_sales_channel  driving_license vehicle_age  \\\n",
       "0         11.0                 152.0                1    < 1 Year   \n",
       "1         15.0                  14.0                1    1-2 Year   \n",
       "2         35.0                 152.0                1    < 1 Year   \n",
       "3          8.0                 160.0                1    < 1 Year   \n",
       "4          8.0                 124.0                1    1-2 Year   \n",
       "\n",
       "  vehicle_damage  annual_premium_brl  annual_premium_brl_squared  \n",
       "0            Yes           1750.1883                3.063159e+06  \n",
       "1             No           2352.5341                5.534417e+06  \n",
       "2             No           3491.9878                1.219398e+07  \n",
       "3             No            196.9870                3.880388e+04  \n",
       "4            Yes           3168.0453                1.003651e+07  "
      ]
     },
     "execution_count": 78,
     "metadata": {},
     "output_type": "execute_result"
    }
   ],
   "source": [
    "data['annual_premium_brl_squared'] = data['annual_premium_brl'].apply(lambda x: x**2)\n",
    "data.head()"
   ]
  },
  {
   "cell_type": "markdown",
   "metadata": {},
   "source": [
    "## annual_premium_brl divided by vintage"
   ]
  },
  {
   "cell_type": "code",
   "execution_count": 79,
   "metadata": {},
   "outputs": [
    {
     "data": {
      "text/html": [
       "<div>\n",
       "<style scoped>\n",
       "    .dataframe tbody tr th:only-of-type {\n",
       "        vertical-align: middle;\n",
       "    }\n",
       "\n",
       "    .dataframe tbody tr th {\n",
       "        vertical-align: top;\n",
       "    }\n",
       "\n",
       "    .dataframe thead th {\n",
       "        text-align: right;\n",
       "    }\n",
       "</style>\n",
       "<table border=\"1\" class=\"dataframe\">\n",
       "  <thead>\n",
       "    <tr style=\"text-align: right;\">\n",
       "      <th></th>\n",
       "      <th>id</th>\n",
       "      <th>previously_insured</th>\n",
       "      <th>annual_premium</th>\n",
       "      <th>vintage</th>\n",
       "      <th>response</th>\n",
       "      <th>gender</th>\n",
       "      <th>age</th>\n",
       "      <th>region_code</th>\n",
       "      <th>policy_sales_channel</th>\n",
       "      <th>driving_license</th>\n",
       "      <th>vehicle_age</th>\n",
       "      <th>vehicle_damage</th>\n",
       "      <th>annual_premium_brl</th>\n",
       "      <th>annual_premium_brl_squared</th>\n",
       "      <th>annual_premium/vintage</th>\n",
       "    </tr>\n",
       "  </thead>\n",
       "  <tbody>\n",
       "    <tr>\n",
       "      <th>0</th>\n",
       "      <td>7</td>\n",
       "      <td>0</td>\n",
       "      <td>23367.0</td>\n",
       "      <td>249</td>\n",
       "      <td>0</td>\n",
       "      <td>Male</td>\n",
       "      <td>23</td>\n",
       "      <td>11.0</td>\n",
       "      <td>152.0</td>\n",
       "      <td>1</td>\n",
       "      <td>&lt; 1 Year</td>\n",
       "      <td>Yes</td>\n",
       "      <td>1750.1883</td>\n",
       "      <td>3.063159e+06</td>\n",
       "      <td>7.028869</td>\n",
       "    </tr>\n",
       "    <tr>\n",
       "      <th>1</th>\n",
       "      <td>13</td>\n",
       "      <td>1</td>\n",
       "      <td>31409.0</td>\n",
       "      <td>221</td>\n",
       "      <td>0</td>\n",
       "      <td>Female</td>\n",
       "      <td>41</td>\n",
       "      <td>15.0</td>\n",
       "      <td>14.0</td>\n",
       "      <td>1</td>\n",
       "      <td>1-2 Year</td>\n",
       "      <td>No</td>\n",
       "      <td>2352.5341</td>\n",
       "      <td>5.534417e+06</td>\n",
       "      <td>10.644951</td>\n",
       "    </tr>\n",
       "    <tr>\n",
       "      <th>2</th>\n",
       "      <td>18</td>\n",
       "      <td>1</td>\n",
       "      <td>46622.0</td>\n",
       "      <td>299</td>\n",
       "      <td>0</td>\n",
       "      <td>Female</td>\n",
       "      <td>25</td>\n",
       "      <td>35.0</td>\n",
       "      <td>152.0</td>\n",
       "      <td>1</td>\n",
       "      <td>&lt; 1 Year</td>\n",
       "      <td>No</td>\n",
       "      <td>3491.9878</td>\n",
       "      <td>1.219398e+07</td>\n",
       "      <td>11.678889</td>\n",
       "    </tr>\n",
       "    <tr>\n",
       "      <th>3</th>\n",
       "      <td>31</td>\n",
       "      <td>0</td>\n",
       "      <td>2630.0</td>\n",
       "      <td>136</td>\n",
       "      <td>0</td>\n",
       "      <td>Female</td>\n",
       "      <td>26</td>\n",
       "      <td>8.0</td>\n",
       "      <td>160.0</td>\n",
       "      <td>1</td>\n",
       "      <td>&lt; 1 Year</td>\n",
       "      <td>No</td>\n",
       "      <td>196.9870</td>\n",
       "      <td>3.880388e+04</td>\n",
       "      <td>1.448434</td>\n",
       "    </tr>\n",
       "    <tr>\n",
       "      <th>4</th>\n",
       "      <td>39</td>\n",
       "      <td>0</td>\n",
       "      <td>42297.0</td>\n",
       "      <td>264</td>\n",
       "      <td>0</td>\n",
       "      <td>Male</td>\n",
       "      <td>45</td>\n",
       "      <td>8.0</td>\n",
       "      <td>124.0</td>\n",
       "      <td>1</td>\n",
       "      <td>1-2 Year</td>\n",
       "      <td>Yes</td>\n",
       "      <td>3168.0453</td>\n",
       "      <td>1.003651e+07</td>\n",
       "      <td>12.000172</td>\n",
       "    </tr>\n",
       "  </tbody>\n",
       "</table>\n",
       "</div>"
      ],
      "text/plain": [
       "   id  previously_insured  annual_premium  vintage  response  gender  age  \\\n",
       "0   7                   0         23367.0      249         0    Male   23   \n",
       "1  13                   1         31409.0      221         0  Female   41   \n",
       "2  18                   1         46622.0      299         0  Female   25   \n",
       "3  31                   0          2630.0      136         0  Female   26   \n",
       "4  39                   0         42297.0      264         0    Male   45   \n",
       "\n",
       "   region_code  policy_sales_channel  driving_license vehicle_age  \\\n",
       "0         11.0                 152.0                1    < 1 Year   \n",
       "1         15.0                  14.0                1    1-2 Year   \n",
       "2         35.0                 152.0                1    < 1 Year   \n",
       "3          8.0                 160.0                1    < 1 Year   \n",
       "4          8.0                 124.0                1    1-2 Year   \n",
       "\n",
       "  vehicle_damage  annual_premium_brl  annual_premium_brl_squared  \\\n",
       "0            Yes           1750.1883                3.063159e+06   \n",
       "1             No           2352.5341                5.534417e+06   \n",
       "2             No           3491.9878                1.219398e+07   \n",
       "3             No            196.9870                3.880388e+04   \n",
       "4            Yes           3168.0453                1.003651e+07   \n",
       "\n",
       "   annual_premium/vintage  \n",
       "0                7.028869  \n",
       "1               10.644951  \n",
       "2               11.678889  \n",
       "3                1.448434  \n",
       "4               12.000172  "
      ]
     },
     "execution_count": 79,
     "metadata": {},
     "output_type": "execute_result"
    }
   ],
   "source": [
    "data['annual_premium/vintage'] = data['annual_premium_brl']/data['vintage']\n",
    "data.head()"
   ]
  },
  {
   "cell_type": "markdown",
   "metadata": {},
   "source": [
    "## Age Categorical"
   ]
  },
  {
   "cell_type": "code",
   "execution_count": 80,
   "metadata": {},
   "outputs": [
    {
     "data": {
      "text/html": [
       "<div>\n",
       "<style scoped>\n",
       "    .dataframe tbody tr th:only-of-type {\n",
       "        vertical-align: middle;\n",
       "    }\n",
       "\n",
       "    .dataframe tbody tr th {\n",
       "        vertical-align: top;\n",
       "    }\n",
       "\n",
       "    .dataframe thead th {\n",
       "        text-align: right;\n",
       "    }\n",
       "</style>\n",
       "<table border=\"1\" class=\"dataframe\">\n",
       "  <thead>\n",
       "    <tr style=\"text-align: right;\">\n",
       "      <th></th>\n",
       "      <th>id</th>\n",
       "      <th>previously_insured</th>\n",
       "      <th>annual_premium</th>\n",
       "      <th>vintage</th>\n",
       "      <th>response</th>\n",
       "      <th>gender</th>\n",
       "      <th>age</th>\n",
       "      <th>region_code</th>\n",
       "      <th>policy_sales_channel</th>\n",
       "      <th>driving_license</th>\n",
       "      <th>vehicle_age</th>\n",
       "      <th>vehicle_damage</th>\n",
       "      <th>annual_premium_brl</th>\n",
       "      <th>annual_premium_brl_squared</th>\n",
       "      <th>annual_premium/vintage</th>\n",
       "      <th>cat_age</th>\n",
       "    </tr>\n",
       "  </thead>\n",
       "  <tbody>\n",
       "    <tr>\n",
       "      <th>0</th>\n",
       "      <td>7</td>\n",
       "      <td>0</td>\n",
       "      <td>23367.0</td>\n",
       "      <td>249</td>\n",
       "      <td>0</td>\n",
       "      <td>Male</td>\n",
       "      <td>23</td>\n",
       "      <td>11.0</td>\n",
       "      <td>152.0</td>\n",
       "      <td>1</td>\n",
       "      <td>&lt; 1 Year</td>\n",
       "      <td>Yes</td>\n",
       "      <td>1750.1883</td>\n",
       "      <td>3.063159e+06</td>\n",
       "      <td>7.028869</td>\n",
       "      <td>Faixa_20_25</td>\n",
       "    </tr>\n",
       "    <tr>\n",
       "      <th>1</th>\n",
       "      <td>13</td>\n",
       "      <td>1</td>\n",
       "      <td>31409.0</td>\n",
       "      <td>221</td>\n",
       "      <td>0</td>\n",
       "      <td>Female</td>\n",
       "      <td>41</td>\n",
       "      <td>15.0</td>\n",
       "      <td>14.0</td>\n",
       "      <td>1</td>\n",
       "      <td>1-2 Year</td>\n",
       "      <td>No</td>\n",
       "      <td>2352.5341</td>\n",
       "      <td>5.534417e+06</td>\n",
       "      <td>10.644951</td>\n",
       "      <td>Faixa_maior_30</td>\n",
       "    </tr>\n",
       "    <tr>\n",
       "      <th>2</th>\n",
       "      <td>18</td>\n",
       "      <td>1</td>\n",
       "      <td>46622.0</td>\n",
       "      <td>299</td>\n",
       "      <td>0</td>\n",
       "      <td>Female</td>\n",
       "      <td>25</td>\n",
       "      <td>35.0</td>\n",
       "      <td>152.0</td>\n",
       "      <td>1</td>\n",
       "      <td>&lt; 1 Year</td>\n",
       "      <td>No</td>\n",
       "      <td>3491.9878</td>\n",
       "      <td>1.219398e+07</td>\n",
       "      <td>11.678889</td>\n",
       "      <td>Faixa_20_25</td>\n",
       "    </tr>\n",
       "    <tr>\n",
       "      <th>3</th>\n",
       "      <td>31</td>\n",
       "      <td>0</td>\n",
       "      <td>2630.0</td>\n",
       "      <td>136</td>\n",
       "      <td>0</td>\n",
       "      <td>Female</td>\n",
       "      <td>26</td>\n",
       "      <td>8.0</td>\n",
       "      <td>160.0</td>\n",
       "      <td>1</td>\n",
       "      <td>&lt; 1 Year</td>\n",
       "      <td>No</td>\n",
       "      <td>196.9870</td>\n",
       "      <td>3.880388e+04</td>\n",
       "      <td>1.448434</td>\n",
       "      <td>Faixa_25_30</td>\n",
       "    </tr>\n",
       "    <tr>\n",
       "      <th>4</th>\n",
       "      <td>39</td>\n",
       "      <td>0</td>\n",
       "      <td>42297.0</td>\n",
       "      <td>264</td>\n",
       "      <td>0</td>\n",
       "      <td>Male</td>\n",
       "      <td>45</td>\n",
       "      <td>8.0</td>\n",
       "      <td>124.0</td>\n",
       "      <td>1</td>\n",
       "      <td>1-2 Year</td>\n",
       "      <td>Yes</td>\n",
       "      <td>3168.0453</td>\n",
       "      <td>1.003651e+07</td>\n",
       "      <td>12.000172</td>\n",
       "      <td>Faixa_maior_30</td>\n",
       "    </tr>\n",
       "  </tbody>\n",
       "</table>\n",
       "</div>"
      ],
      "text/plain": [
       "   id  previously_insured  annual_premium  vintage  response  gender  age  \\\n",
       "0   7                   0         23367.0      249         0    Male   23   \n",
       "1  13                   1         31409.0      221         0  Female   41   \n",
       "2  18                   1         46622.0      299         0  Female   25   \n",
       "3  31                   0          2630.0      136         0  Female   26   \n",
       "4  39                   0         42297.0      264         0    Male   45   \n",
       "\n",
       "   region_code  policy_sales_channel  driving_license vehicle_age  \\\n",
       "0         11.0                 152.0                1    < 1 Year   \n",
       "1         15.0                  14.0                1    1-2 Year   \n",
       "2         35.0                 152.0                1    < 1 Year   \n",
       "3          8.0                 160.0                1    < 1 Year   \n",
       "4          8.0                 124.0                1    1-2 Year   \n",
       "\n",
       "  vehicle_damage  annual_premium_brl  annual_premium_brl_squared  \\\n",
       "0            Yes           1750.1883                3.063159e+06   \n",
       "1             No           2352.5341                5.534417e+06   \n",
       "2             No           3491.9878                1.219398e+07   \n",
       "3             No            196.9870                3.880388e+04   \n",
       "4            Yes           3168.0453                1.003651e+07   \n",
       "\n",
       "   annual_premium/vintage         cat_age  \n",
       "0                7.028869     Faixa_20_25  \n",
       "1               10.644951  Faixa_maior_30  \n",
       "2               11.678889     Faixa_20_25  \n",
       "3                1.448434     Faixa_25_30  \n",
       "4               12.000172  Faixa_maior_30  "
      ]
     },
     "execution_count": 80,
     "metadata": {},
     "output_type": "execute_result"
    }
   ],
   "source": [
    "data['cat_age'] = data['age'].apply(lambda x: cat_age(x))\n",
    "data.head()"
   ]
  },
  {
   "cell_type": "markdown",
   "metadata": {},
   "source": [
    "## Median by policy_sales_channel"
   ]
  },
  {
   "cell_type": "code",
   "execution_count": 81,
   "metadata": {},
   "outputs": [],
   "source": [
    "dados_temp = data.groupby('policy_sales_channel')['annual_premium_brl'].median()\n",
    "dados_temp = pd.DataFrame(dados_temp)"
   ]
  },
  {
   "cell_type": "code",
   "execution_count": 82,
   "metadata": {},
   "outputs": [],
   "source": [
    "data = data.merge(dados_temp, on='policy_sales_channel')\n",
    "data.rename(columns={'annual_premium_brl_y': 'median_by_policy',\n",
    "                     'annual_premium_brl_x':'annual_premium_brl'}, inplace=True)"
   ]
  },
  {
   "cell_type": "code",
   "execution_count": 83,
   "metadata": {},
   "outputs": [
    {
     "data": {
      "text/html": [
       "<div>\n",
       "<style scoped>\n",
       "    .dataframe tbody tr th:only-of-type {\n",
       "        vertical-align: middle;\n",
       "    }\n",
       "\n",
       "    .dataframe tbody tr th {\n",
       "        vertical-align: top;\n",
       "    }\n",
       "\n",
       "    .dataframe thead th {\n",
       "        text-align: right;\n",
       "    }\n",
       "</style>\n",
       "<table border=\"1\" class=\"dataframe\">\n",
       "  <thead>\n",
       "    <tr style=\"text-align: right;\">\n",
       "      <th></th>\n",
       "      <th>id</th>\n",
       "      <th>previously_insured</th>\n",
       "      <th>annual_premium</th>\n",
       "      <th>vintage</th>\n",
       "      <th>response</th>\n",
       "      <th>gender</th>\n",
       "      <th>age</th>\n",
       "      <th>region_code</th>\n",
       "      <th>policy_sales_channel</th>\n",
       "      <th>driving_license</th>\n",
       "      <th>vehicle_age</th>\n",
       "      <th>vehicle_damage</th>\n",
       "      <th>annual_premium_brl</th>\n",
       "      <th>annual_premium_brl_squared</th>\n",
       "      <th>annual_premium/vintage</th>\n",
       "      <th>cat_age</th>\n",
       "      <th>median_by_policy</th>\n",
       "    </tr>\n",
       "  </thead>\n",
       "  <tbody>\n",
       "    <tr>\n",
       "      <th>0</th>\n",
       "      <td>7</td>\n",
       "      <td>0</td>\n",
       "      <td>23367.0</td>\n",
       "      <td>249</td>\n",
       "      <td>0</td>\n",
       "      <td>Male</td>\n",
       "      <td>23</td>\n",
       "      <td>11.0</td>\n",
       "      <td>152.0</td>\n",
       "      <td>1</td>\n",
       "      <td>&lt; 1 Year</td>\n",
       "      <td>Yes</td>\n",
       "      <td>1750.1883</td>\n",
       "      <td>3.063159e+06</td>\n",
       "      <td>7.028869</td>\n",
       "      <td>Faixa_20_25</td>\n",
       "      <td>2303.6244</td>\n",
       "    </tr>\n",
       "    <tr>\n",
       "      <th>1</th>\n",
       "      <td>18</td>\n",
       "      <td>1</td>\n",
       "      <td>46622.0</td>\n",
       "      <td>299</td>\n",
       "      <td>0</td>\n",
       "      <td>Female</td>\n",
       "      <td>25</td>\n",
       "      <td>35.0</td>\n",
       "      <td>152.0</td>\n",
       "      <td>1</td>\n",
       "      <td>&lt; 1 Year</td>\n",
       "      <td>No</td>\n",
       "      <td>3491.9878</td>\n",
       "      <td>1.219398e+07</td>\n",
       "      <td>11.678889</td>\n",
       "      <td>Faixa_20_25</td>\n",
       "      <td>2303.6244</td>\n",
       "    </tr>\n",
       "    <tr>\n",
       "      <th>2</th>\n",
       "      <td>73</td>\n",
       "      <td>1</td>\n",
       "      <td>40372.0</td>\n",
       "      <td>242</td>\n",
       "      <td>0</td>\n",
       "      <td>Female</td>\n",
       "      <td>23</td>\n",
       "      <td>39.0</td>\n",
       "      <td>152.0</td>\n",
       "      <td>1</td>\n",
       "      <td>&lt; 1 Year</td>\n",
       "      <td>No</td>\n",
       "      <td>3023.8628</td>\n",
       "      <td>9.143746e+06</td>\n",
       "      <td>12.495301</td>\n",
       "      <td>Faixa_20_25</td>\n",
       "      <td>2303.6244</td>\n",
       "    </tr>\n",
       "    <tr>\n",
       "      <th>3</th>\n",
       "      <td>95</td>\n",
       "      <td>0</td>\n",
       "      <td>41641.0</td>\n",
       "      <td>209</td>\n",
       "      <td>0</td>\n",
       "      <td>Female</td>\n",
       "      <td>23</td>\n",
       "      <td>15.0</td>\n",
       "      <td>152.0</td>\n",
       "      <td>1</td>\n",
       "      <td>&lt; 1 Year</td>\n",
       "      <td>Yes</td>\n",
       "      <td>3118.9109</td>\n",
       "      <td>9.727605e+06</td>\n",
       "      <td>14.923019</td>\n",
       "      <td>Faixa_20_25</td>\n",
       "      <td>2303.6244</td>\n",
       "    </tr>\n",
       "    <tr>\n",
       "      <th>4</th>\n",
       "      <td>120</td>\n",
       "      <td>0</td>\n",
       "      <td>2630.0</td>\n",
       "      <td>149</td>\n",
       "      <td>0</td>\n",
       "      <td>Female</td>\n",
       "      <td>23</td>\n",
       "      <td>25.0</td>\n",
       "      <td>152.0</td>\n",
       "      <td>1</td>\n",
       "      <td>&lt; 1 Year</td>\n",
       "      <td>No</td>\n",
       "      <td>196.9870</td>\n",
       "      <td>3.880388e+04</td>\n",
       "      <td>1.322060</td>\n",
       "      <td>Faixa_20_25</td>\n",
       "      <td>2303.6244</td>\n",
       "    </tr>\n",
       "  </tbody>\n",
       "</table>\n",
       "</div>"
      ],
      "text/plain": [
       "    id  previously_insured  annual_premium  vintage  response  gender  age  \\\n",
       "0    7                   0         23367.0      249         0    Male   23   \n",
       "1   18                   1         46622.0      299         0  Female   25   \n",
       "2   73                   1         40372.0      242         0  Female   23   \n",
       "3   95                   0         41641.0      209         0  Female   23   \n",
       "4  120                   0          2630.0      149         0  Female   23   \n",
       "\n",
       "   region_code  policy_sales_channel  driving_license vehicle_age  \\\n",
       "0         11.0                 152.0                1    < 1 Year   \n",
       "1         35.0                 152.0                1    < 1 Year   \n",
       "2         39.0                 152.0                1    < 1 Year   \n",
       "3         15.0                 152.0                1    < 1 Year   \n",
       "4         25.0                 152.0                1    < 1 Year   \n",
       "\n",
       "  vehicle_damage  annual_premium_brl  annual_premium_brl_squared  \\\n",
       "0            Yes           1750.1883                3.063159e+06   \n",
       "1             No           3491.9878                1.219398e+07   \n",
       "2             No           3023.8628                9.143746e+06   \n",
       "3            Yes           3118.9109                9.727605e+06   \n",
       "4             No            196.9870                3.880388e+04   \n",
       "\n",
       "   annual_premium/vintage      cat_age  median_by_policy  \n",
       "0                7.028869  Faixa_20_25         2303.6244  \n",
       "1               11.678889  Faixa_20_25         2303.6244  \n",
       "2               12.495301  Faixa_20_25         2303.6244  \n",
       "3               14.923019  Faixa_20_25         2303.6244  \n",
       "4                1.322060  Faixa_20_25         2303.6244  "
      ]
     },
     "execution_count": 83,
     "metadata": {},
     "output_type": "execute_result"
    }
   ],
   "source": [
    "data.head()"
   ]
  },
  {
   "cell_type": "markdown",
   "metadata": {},
   "source": [
    "# EDA"
   ]
  },
  {
   "cell_type": "markdown",
   "metadata": {},
   "source": [
    "## Univariate Analysis"
   ]
  },
  {
   "cell_type": "markdown",
   "metadata": {},
   "source": [
    "### Variáveis Categoricas"
   ]
  },
  {
   "cell_type": "code",
   "execution_count": 74,
   "metadata": {},
   "outputs": [
    {
     "data": {
      "image/png": "[encoded data removed]",
      "text/plain": [
       "<Figure size 2592x2304 with 4 Axes>"
      ]
     },
     "metadata": {
      "needs_background": "light"
     },
     "output_type": "display_data"
    }
   ],
   "source": [
    "# checking the outliers again.\n",
    "# Variáveis\n",
    "variables = data.select_dtypes(['category', 'object']).columns.to_list()\n",
    "\n",
    "# Setando a posicão inicial\n",
    "n = 1\n",
    "\n",
    "plt.figure(figsize=(36, 32))\n",
    "for column in data[variables].columns:\n",
    "    plt.subplot(4, 4, n)\n",
    "    _ = sns.countplot(y=column,hue='response', data=data)\n",
    "    n += 1\n",
    "\n",
    "plt.subplots_adjust(hspace=0.6,wspace=0.5)\n",
    "plt.show()"
   ]
  },
  {
   "cell_type": "markdown",
   "metadata": {},
   "source": [
    "### Variáveis Númericas"
   ]
  },
  {
   "cell_type": "code",
   "execution_count": 75,
   "metadata": {},
   "outputs": [
    {
     "data": {
      "image/png": "[encoded data removed]",
      "text/plain": [
       "<Figure size 2592x2304 with 12 Axes>"
      ]
     },
     "metadata": {
      "needs_background": "light"
     },
     "output_type": "display_data"
    }
   ],
   "source": [
    "# Antes do feature eng\n",
    "variables = data.select_dtypes(['int64','float64']).columns.to_list()\n",
    "#variables.remove('RowNumber'), variables.remove('CustomerId')\n",
    "\n",
    "# Setando a posicão inicial\n",
    "n = 1\n",
    "\n",
    "plt.figure(figsize=(36, 32))\n",
    "for column in data[variables].columns[:len(variables)-1]:\n",
    "    plt.subplot(4, 4, n)\n",
    "    _ = sns.histplot(data = data, x=column, hue='response')\n",
    "    n += 1\n",
    "\n",
    "plt.subplots_adjust(hspace=0.6,wspace=0.5)\n",
    "plt.show()"
   ]
  },
  {
   "cell_type": "code",
   "execution_count": 89,
   "metadata": {},
   "outputs": [
    {
     "data": {
      "image/png": "[encoded data removed]",
      "text/plain": [
       "<Figure size 720x576 with 1 Axes>"
      ]
     },
     "metadata": {
      "needs_background": "light"
     },
     "output_type": "display_data"
    }
   ],
   "source": [
    "# annual_premium_brl\n",
    "\n",
    "data_temp = data.loc[data['annual_premium_brl']>1000,['annual_premium_brl','response']]\n",
    "\n",
    "plt.figure(figsize=(10, 8))\n",
    "sns.histplot(data = data_temp, x='annual_premium_brl', hue='response')\n",
    "plt.show()"
   ]
  },
  {
   "cell_type": "markdown",
   "metadata": {},
   "source": [
    "## Multivariate Analysis"
   ]
  },
  {
   "cell_type": "code",
   "execution_count": null,
   "metadata": {},
   "outputs": [],
   "source": [
    "# Variáveis\n",
    "variables = data.select_dtypes(['int64','float64']).columns.to_list()\n",
    "#variables.append('response')\n",
    "\n",
    "sns.pairplot(data[variables], hue='response')"
   ]
  },
  {
   "cell_type": "markdown",
   "metadata": {},
   "source": [
    "## Correlations"
   ]
  },
  {
   "cell_type": "code",
   "execution_count": null,
   "metadata": {},
   "outputs": [],
   "source": [
    "Myheat_map()"
   ]
  },
  {
   "cell_type": "code",
   "execution_count": null,
   "metadata": {},
   "outputs": [],
   "source": []
  },
  {
   "cell_type": "code",
   "execution_count": null,
   "metadata": {},
   "outputs": [],
   "source": []
  },
  {
   "cell_type": "code",
   "execution_count": null,
   "metadata": {},
   "outputs": [],
   "source": [
    "cramer_v()"
   ]
  },
  {
   "cell_type": "code",
   "execution_count": null,
   "metadata": {},
   "outputs": [],
   "source": [
    "# Numericas com relação a target\n",
    "variables = dataset.select_dtypes(['int64','float64']).columns.to_list()\n",
    "\n",
    "# Correlações\n",
    "corrs = [pointbiserialr(dataset['Exited'], dataset[var])[0] for var in variables]\n",
    "df_corr = pd.DataFrame({'Exited': corrs}, index=variables)\n",
    "\n",
    "# Plot Matrix\n",
    "fig, ax = plt.subplots()\n",
    "plt.subplot(1, 2, 1)\n",
    "sns.heatmap(df_corr, annot=True, annot_kws={\"fontsize\":14}, cmap='viridis')\n",
    "plt.title(\"Pointbiserialr\")"
   ]
  }
 ],
 "metadata": {
  "kernelspec": {
   "display_name": "Python (pa004-env)",
   "language": "python",
   "name": "pa004-env"
  },
  "language_info": {
   "codemirror_mode": {
    "name": "ipython",
    "version": 3
   },
   "file_extension": ".py",
   "mimetype": "text/x-python",
   "name": "python",
   "nbconvert_exporter": "python",
   "pygments_lexer": "ipython3",
   "version": "3.8.5"
  },
  "toc": {
   "base_numbering": 1,
   "nav_menu": {},
   "number_sections": true,
   "sideBar": true,
   "skip_h1_title": false,
   "title_cell": "Table of Contents",
   "title_sidebar": "Contents",
   "toc_cell": false,
   "toc_position": {},
   "toc_section_display": true,
   "toc_window_display": true
  },
  "toc-autonumbering": true,
  "varInspector": {
   "cols": {
    "lenName": 16,
    "lenType": 16,
    "lenVar": 40
   },
   "kernels_config": {
    "python": {
     "delete_cmd_postfix": "",
     "delete_cmd_prefix": "del ",
     "library": "var_list.py",
     "varRefreshCmd": "print(var_dic_list())"
    },
    "r": {
     "delete_cmd_postfix": ") ",
     "delete_cmd_prefix": "rm(",
     "library": "var_list.r",
     "varRefreshCmd": "cat(var_dic_list()) "
    }
   },
   "types_to_exclude": [
    "module",
    "function",
    "builtin_function_or_method",
    "instance",
    "_Feature"
   ],
   "window_display": false
  }
 },
 "nbformat": 4,
 "nbformat_minor": 4
}
